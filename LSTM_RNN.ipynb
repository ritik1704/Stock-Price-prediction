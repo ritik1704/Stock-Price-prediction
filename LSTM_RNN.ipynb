{
 "cells": [
  {
   "cell_type": "code",
   "execution_count": 1,
   "metadata": {
    "colab": {},
    "colab_type": "code",
    "id": "FGeE-3TryA_X"
   },
   "outputs": [],
   "source": [
    "import tensorflow as tf"
   ]
  },
  {
   "cell_type": "code",
   "execution_count": 2,
   "metadata": {
    "colab": {
     "base_uri": "https://localhost:8080/",
     "height": 35
    },
    "colab_type": "code",
    "id": "LtGeEnHVyqn8",
    "outputId": "3068e9c5-9557-4f9d-8c77-8964039619eb"
   },
   "outputs": [
    {
     "data": {
      "application/vnd.google.colaboratory.intrinsic+json": {
       "type": "string"
      },
      "text/plain": [
       "'2.2.0'"
      ]
     },
     "execution_count": 2,
     "metadata": {
      "tags": []
     },
     "output_type": "execute_result"
    }
   ],
   "source": [
    "tf.__version__"
   ]
  },
  {
   "cell_type": "code",
   "execution_count": 3,
   "metadata": {
    "colab": {},
    "colab_type": "code",
    "id": "pkn1qaAX0d3o"
   },
   "outputs": [],
   "source": [
    "import numpy as np\n",
    "import matplotlib.pyplot as plt\n",
    "import pandas as pd\n"
   ]
  },
  {
   "cell_type": "code",
   "execution_count": 4,
   "metadata": {
    "colab": {},
    "colab_type": "code",
    "id": "Lhmjyxxs0yFi"
   },
   "outputs": [],
   "source": [
    "df_train= pd.read_csv('Google_Stock_Price_Train.csv')"
   ]
  },
  {
   "cell_type": "code",
   "execution_count": 5,
   "metadata": {
    "colab": {
     "base_uri": "https://localhost:8080/",
     "height": 133
    },
    "colab_type": "code",
    "id": "TggEV6Lz1JpJ",
    "outputId": "dc457c79-2dfb-499a-be58-c4061ae6832f"
   },
   "outputs": [
    {
     "data": {
      "text/plain": [
       "array([[325.25],\n",
       "       [331.27],\n",
       "       [329.83],\n",
       "       ...,\n",
       "       [793.7 ],\n",
       "       [783.33],\n",
       "       [782.75]])"
      ]
     },
     "execution_count": 5,
     "metadata": {
      "tags": []
     },
     "output_type": "execute_result"
    }
   ],
   "source": [
    "training_set = df_train.iloc[:,1:2].values\n",
    "training_set"
   ]
  },
  {
   "cell_type": "code",
   "execution_count": 6,
   "metadata": {
    "colab": {},
    "colab_type": "code",
    "id": "bU6i8UhS1-fh"
   },
   "outputs": [],
   "source": [
    "from sklearn.preprocessing import MinMaxScaler\n",
    "\n"
   ]
  },
  {
   "cell_type": "code",
   "execution_count": 7,
   "metadata": {
    "colab": {
     "base_uri": "https://localhost:8080/",
     "height": 33
    },
    "colab_type": "code",
    "id": "H-xQoWB626DX",
    "outputId": "a999c3b8-5358-4987-efa3-f6c5fa8e1434"
   },
   "outputs": [
    {
     "data": {
      "text/plain": [
       "(1258, 1)"
      ]
     },
     "execution_count": 7,
     "metadata": {
      "tags": []
     },
     "output_type": "execute_result"
    }
   ],
   "source": [
    "sc= MinMaxScaler(feature_range=(0,1))\n",
    "scaled_training_Set = sc.fit_transform(training_set)\n",
    "scaled_training_Set.shape"
   ]
  },
  {
   "cell_type": "code",
   "execution_count": 8,
   "metadata": {
    "colab": {},
    "colab_type": "code",
    "id": "pgwL85iS3chd"
   },
   "outputs": [],
   "source": [
    "# creating 60 timesteps and give output\n",
    "x_train=[]\n",
    "y_train=[]\n",
    "for i in range(60,1258):\n",
    "  x_train.append(scaled_training_Set[i-60:i,0])\n",
    "  y_train.append(scaled_training_Set[i,0])\n",
    "x_train = np.array(x_train)\n",
    "y_train = np.array(y_train)"
   ]
  },
  {
   "cell_type": "code",
   "execution_count": 9,
   "metadata": {
    "colab": {
     "base_uri": "https://localhost:8080/",
     "height": 232
    },
    "colab_type": "code",
    "id": "qB1HzP6n7BIq",
    "outputId": "13045d5a-76b6-4269-d513-f3984ab67a15"
   },
   "outputs": [
    {
     "data": {
      "text/plain": [
       "array([[0.08581368, 0.09701243, 0.09433366, ..., 0.07846566, 0.08034452,\n",
       "        0.08497656],\n",
       "       [0.09701243, 0.09433366, 0.09156187, ..., 0.08034452, 0.08497656,\n",
       "        0.08627874],\n",
       "       [0.09433366, 0.09156187, 0.07984225, ..., 0.08497656, 0.08627874,\n",
       "        0.08471612],\n",
       "       ...,\n",
       "       [0.92106928, 0.92438053, 0.93048218, ..., 0.95475854, 0.95204256,\n",
       "        0.95163331],\n",
       "       [0.92438053, 0.93048218, 0.9299055 , ..., 0.95204256, 0.95163331,\n",
       "        0.95725128],\n",
       "       [0.93048218, 0.9299055 , 0.93113327, ..., 0.95163331, 0.95725128,\n",
       "        0.93796041]])"
      ]
     },
     "execution_count": 9,
     "metadata": {
      "tags": []
     },
     "output_type": "execute_result"
    }
   ],
   "source": [
    "x_train"
   ]
  },
  {
   "cell_type": "code",
   "execution_count": 10,
   "metadata": {
    "colab": {},
    "colab_type": "code",
    "id": "dZUZ190E7C0u"
   },
   "outputs": [],
   "source": [
    "x_train = np.reshape(x_train,(x_train.shape[0],x_train.shape[1],1)) #observation , timestep, indicator"
   ]
  },
  {
   "cell_type": "code",
   "execution_count": 11,
   "metadata": {
    "colab": {
     "base_uri": "https://localhost:8080/",
     "height": 33
    },
    "colab_type": "code",
    "id": "jbtxecEt-zIK",
    "outputId": "c40c1eeb-c080-4d99-d7c1-9889319c81f8"
   },
   "outputs": [
    {
     "data": {
      "text/plain": [
       "(1198, 60, 1)"
      ]
     },
     "execution_count": 11,
     "metadata": {
      "tags": []
     },
     "output_type": "execute_result"
    }
   ],
   "source": [
    "x_train.shape"
   ]
  },
  {
   "cell_type": "code",
   "execution_count": 12,
   "metadata": {
    "colab": {
     "base_uri": "https://localhost:8080/",
     "height": 33
    },
    "colab_type": "code",
    "id": "ZKW2ypU--05O",
    "outputId": "6c042f49-f7cf-4728-972f-55dd32de9963"
   },
   "outputs": [
    {
     "name": "stderr",
     "output_type": "stream",
     "text": [
      "Using TensorFlow backend.\n"
     ]
    }
   ],
   "source": [
    "from keras.models import Sequential\n",
    "from keras.layers import Dense\n",
    "from keras.layers import LSTM\n",
    "from keras.layers import Dropout #to avoid overfitting\n"
   ]
  },
  {
   "cell_type": "code",
   "execution_count": 13,
   "metadata": {
    "colab": {},
    "colab_type": "code",
    "id": "Sfu9-Jo-pm8m"
   },
   "outputs": [],
   "source": [
    "regressor = Sequential()"
   ]
  },
  {
   "cell_type": "code",
   "execution_count": 14,
   "metadata": {
    "colab": {},
    "colab_type": "code",
    "id": "q-fyFVU6qY5P"
   },
   "outputs": [],
   "source": [
    "regressor.add(LSTM(units=50,return_sequences=True,input_shape=(x_train.shape[1],1)))"
   ]
  },
  {
   "cell_type": "code",
   "execution_count": 15,
   "metadata": {
    "colab": {},
    "colab_type": "code",
    "id": "QRRwO9DZtda2"
   },
   "outputs": [],
   "source": [
    "regressor.add(Dropout(0.2))"
   ]
  },
  {
   "cell_type": "code",
   "execution_count": 16,
   "metadata": {
    "colab": {},
    "colab_type": "code",
    "id": "ayBJJnh1t5XE"
   },
   "outputs": [],
   "source": [
    "regressor.add(LSTM(units=50,return_sequences=True))\n",
    "regressor.add(Dropout(0.2))"
   ]
  },
  {
   "cell_type": "code",
   "execution_count": 17,
   "metadata": {
    "colab": {},
    "colab_type": "code",
    "id": "zBFvdKKxuWZm"
   },
   "outputs": [],
   "source": [
    "regressor.add(LSTM(units=50,return_sequences=True))\n",
    "regressor.add(Dropout(0.2))"
   ]
  },
  {
   "cell_type": "code",
   "execution_count": 18,
   "metadata": {
    "colab": {},
    "colab_type": "code",
    "id": "zHUEqrU0uaqm"
   },
   "outputs": [],
   "source": [
    "regressor.add(LSTM(units=50,return_sequences=True))\n",
    "regressor.add(Dropout(0.2))"
   ]
  },
  {
   "cell_type": "code",
   "execution_count": 19,
   "metadata": {
    "colab": {},
    "colab_type": "code",
    "id": "FYDbTdb0uys9"
   },
   "outputs": [],
   "source": [
    "regressor.add(LSTM(units=50,return_sequences=False))\n",
    "regressor.add(Dropout(0.2))"
   ]
  },
  {
   "cell_type": "code",
   "execution_count": 20,
   "metadata": {
    "colab": {},
    "colab_type": "code",
    "id": "pFW-TYx1vPox"
   },
   "outputs": [],
   "source": [
    "regressor.add(Dense(units=1))"
   ]
  },
  {
   "cell_type": "code",
   "execution_count": 21,
   "metadata": {
    "colab": {},
    "colab_type": "code",
    "id": "FPud9WGHvtbM"
   },
   "outputs": [],
   "source": [
    "regressor.compile(optimizer='adam',loss='mean_squared_error',metrics=['accuracy'])  #rmsprop is also good choice for rnn"
   ]
  },
  {
   "cell_type": "code",
   "execution_count": 27,
   "metadata": {
    "colab": {
     "base_uri": "https://localhost:8080/",
     "height": 1000
    },
    "colab_type": "code",
    "id": "PuGorBJQwjPI",
    "outputId": "2e6fc6a5-e136-4eb1-e73d-0df353d5e76e"
   },
   "outputs": [
    {
     "name": "stdout",
     "output_type": "stream",
     "text": [
      "Epoch 1/50\n",
      "1198/1198 [==============================] - 7s 6ms/step - loss: 0.0024 - accuracy: 0.0017\n",
      "Epoch 2/50\n",
      "1198/1198 [==============================] - 7s 6ms/step - loss: 0.0025 - accuracy: 0.0017\n",
      "Epoch 3/50\n",
      "1198/1198 [==============================] - 7s 6ms/step - loss: 0.0023 - accuracy: 0.0017\n",
      "Epoch 4/50\n",
      "1198/1198 [==============================] - 7s 6ms/step - loss: 0.0024 - accuracy: 0.0017\n",
      "Epoch 5/50\n",
      "1198/1198 [==============================] - 7s 6ms/step - loss: 0.0022 - accuracy: 0.0017\n",
      "Epoch 6/50\n",
      "1198/1198 [==============================] - 7s 6ms/step - loss: 0.0023 - accuracy: 0.0017\n",
      "Epoch 7/50\n",
      "1198/1198 [==============================] - 7s 6ms/step - loss: 0.0025 - accuracy: 0.0017\n",
      "Epoch 8/50\n",
      "1198/1198 [==============================] - 7s 6ms/step - loss: 0.0021 - accuracy: 0.0017\n",
      "Epoch 9/50\n",
      "1198/1198 [==============================] - 7s 6ms/step - loss: 0.0022 - accuracy: 0.0017\n",
      "Epoch 10/50\n",
      "1198/1198 [==============================] - 7s 6ms/step - loss: 0.0022 - accuracy: 0.0017\n",
      "Epoch 11/50\n",
      "1198/1198 [==============================] - 7s 6ms/step - loss: 0.0020 - accuracy: 0.0017\n",
      "Epoch 12/50\n",
      "1198/1198 [==============================] - 7s 6ms/step - loss: 0.0023 - accuracy: 0.0017\n",
      "Epoch 13/50\n",
      "1198/1198 [==============================] - 7s 6ms/step - loss: 0.0020 - accuracy: 0.0017\n",
      "Epoch 14/50\n",
      "1198/1198 [==============================] - 7s 6ms/step - loss: 0.0021 - accuracy: 0.0017\n",
      "Epoch 15/50\n",
      "1198/1198 [==============================] - 7s 6ms/step - loss: 0.0021 - accuracy: 0.0017\n",
      "Epoch 16/50\n",
      "1198/1198 [==============================] - 7s 6ms/step - loss: 0.0020 - accuracy: 0.0017\n",
      "Epoch 17/50\n",
      "1198/1198 [==============================] - 7s 6ms/step - loss: 0.0020 - accuracy: 0.0017\n",
      "Epoch 18/50\n",
      "1198/1198 [==============================] - 7s 6ms/step - loss: 0.0020 - accuracy: 0.0017\n",
      "Epoch 19/50\n",
      "1198/1198 [==============================] - 7s 6ms/step - loss: 0.0020 - accuracy: 0.0017\n",
      "Epoch 20/50\n",
      "1198/1198 [==============================] - 7s 6ms/step - loss: 0.0024 - accuracy: 0.0017\n",
      "Epoch 21/50\n",
      "1198/1198 [==============================] - 7s 6ms/step - loss: 0.0020 - accuracy: 0.0017\n",
      "Epoch 22/50\n",
      "1198/1198 [==============================] - 7s 6ms/step - loss: 0.0018 - accuracy: 0.0017\n",
      "Epoch 23/50\n",
      "1198/1198 [==============================] - 7s 6ms/step - loss: 0.0019 - accuracy: 0.0017\n",
      "Epoch 24/50\n",
      "1198/1198 [==============================] - 7s 6ms/step - loss: 0.0019 - accuracy: 0.0017\n",
      "Epoch 25/50\n",
      "1198/1198 [==============================] - 7s 6ms/step - loss: 0.0020 - accuracy: 0.0017\n",
      "Epoch 26/50\n",
      "1198/1198 [==============================] - 7s 6ms/step - loss: 0.0017 - accuracy: 0.0017\n",
      "Epoch 27/50\n",
      "1198/1198 [==============================] - 7s 6ms/step - loss: 0.0018 - accuracy: 0.0017\n",
      "Epoch 28/50\n",
      "1198/1198 [==============================] - 7s 6ms/step - loss: 0.0018 - accuracy: 0.0017\n",
      "Epoch 29/50\n",
      "1198/1198 [==============================] - 7s 6ms/step - loss: 0.0021 - accuracy: 0.0017\n",
      "Epoch 30/50\n",
      "1198/1198 [==============================] - 7s 6ms/step - loss: 0.0018 - accuracy: 0.0017\n",
      "Epoch 31/50\n",
      "1198/1198 [==============================] - 7s 6ms/step - loss: 0.0017 - accuracy: 0.0017\n",
      "Epoch 32/50\n",
      "1198/1198 [==============================] - 7s 6ms/step - loss: 0.0019 - accuracy: 0.0017\n",
      "Epoch 33/50\n",
      "1198/1198 [==============================] - 7s 6ms/step - loss: 0.0017 - accuracy: 0.0017\n",
      "Epoch 34/50\n",
      "1198/1198 [==============================] - 7s 6ms/step - loss: 0.0018 - accuracy: 0.0017\n",
      "Epoch 35/50\n",
      "1198/1198 [==============================] - 7s 6ms/step - loss: 0.0018 - accuracy: 0.0017\n",
      "Epoch 36/50\n",
      "1198/1198 [==============================] - 7s 6ms/step - loss: 0.0018 - accuracy: 0.0017\n",
      "Epoch 37/50\n",
      "1198/1198 [==============================] - 7s 6ms/step - loss: 0.0017 - accuracy: 0.0017\n",
      "Epoch 38/50\n",
      "1198/1198 [==============================] - 7s 6ms/step - loss: 0.0016 - accuracy: 0.0017\n",
      "Epoch 39/50\n",
      "1198/1198 [==============================] - 7s 6ms/step - loss: 0.0016 - accuracy: 0.0017\n",
      "Epoch 40/50\n",
      "1198/1198 [==============================] - 7s 6ms/step - loss: 0.0018 - accuracy: 0.0017\n",
      "Epoch 41/50\n",
      "1198/1198 [==============================] - 7s 6ms/step - loss: 0.0018 - accuracy: 0.0017\n",
      "Epoch 42/50\n",
      "1198/1198 [==============================] - 7s 6ms/step - loss: 0.0016 - accuracy: 0.0017\n",
      "Epoch 43/50\n",
      "1198/1198 [==============================] - 7s 6ms/step - loss: 0.0016 - accuracy: 0.0017\n",
      "Epoch 44/50\n",
      "1198/1198 [==============================] - 7s 6ms/step - loss: 0.0015 - accuracy: 0.0017\n",
      "Epoch 45/50\n",
      "1198/1198 [==============================] - 7s 6ms/step - loss: 0.0018 - accuracy: 0.0017\n",
      "Epoch 46/50\n",
      "1198/1198 [==============================] - 7s 6ms/step - loss: 0.0015 - accuracy: 0.0017\n",
      "Epoch 47/50\n",
      "1198/1198 [==============================] - 7s 6ms/step - loss: 0.0015 - accuracy: 0.0017\n",
      "Epoch 48/50\n",
      "1198/1198 [==============================] - 7s 6ms/step - loss: 0.0016 - accuracy: 0.0017\n",
      "Epoch 49/50\n",
      "1198/1198 [==============================] - 7s 6ms/step - loss: 0.0016 - accuracy: 0.0017\n",
      "Epoch 50/50\n",
      "1198/1198 [==============================] - 7s 6ms/step - loss: 0.0016 - accuracy: 0.0017\n"
     ]
    },
    {
     "data": {
      "text/plain": [
       "<keras.callbacks.callbacks.History at 0x7f94c6240ef0>"
      ]
     },
     "execution_count": 27,
     "metadata": {
      "tags": []
     },
     "output_type": "execute_result"
    }
   ],
   "source": [
    "regressor.fit(x_train,y_train,epochs=50,batch_size=32)"
   ]
  },
  {
   "cell_type": "code",
   "execution_count": 28,
   "metadata": {
    "colab": {},
    "colab_type": "code",
    "id": "U17A-RfZ0CIL"
   },
   "outputs": [],
   "source": [
    "df_test= pd.read_csv('Google_Stock_Price_Test.csv')"
   ]
  },
  {
   "cell_type": "code",
   "execution_count": 29,
   "metadata": {
    "colab": {
     "base_uri": "https://localhost:8080/",
     "height": 348
    },
    "colab_type": "code",
    "id": "Y3voae4L12ki",
    "outputId": "26af3b19-58c2-4689-ebc4-534a5d175d31"
   },
   "outputs": [
    {
     "data": {
      "text/plain": [
       "array([[778.81],\n",
       "       [788.36],\n",
       "       [786.08],\n",
       "       [795.26],\n",
       "       [806.4 ],\n",
       "       [807.86],\n",
       "       [805.  ],\n",
       "       [807.14],\n",
       "       [807.48],\n",
       "       [807.08],\n",
       "       [805.81],\n",
       "       [805.12],\n",
       "       [806.91],\n",
       "       [807.25],\n",
       "       [822.3 ],\n",
       "       [829.62],\n",
       "       [837.81],\n",
       "       [834.71],\n",
       "       [814.66],\n",
       "       [796.86]])"
      ]
     },
     "execution_count": 29,
     "metadata": {
      "tags": []
     },
     "output_type": "execute_result"
    }
   ],
   "source": [
    "real_stock_price = df_test.iloc[:,1:2].values\n",
    "real_stock_price"
   ]
  },
  {
   "cell_type": "code",
   "execution_count": 31,
   "metadata": {
    "colab": {
     "base_uri": "https://localhost:8080/",
     "height": 597
    },
    "colab_type": "code",
    "id": "Wu62-cCs40Uj",
    "outputId": "82c52727-ccbf-4068-c8bc-c7f030692ffe"
   },
   "outputs": [
    {
     "data": {
      "text/plain": [
       "(            Date    Open    High     Low   Close      Volume\n",
       " 0       1/3/2012  325.25  332.83  324.97  663.59   7,380,500\n",
       " 1       1/4/2012  331.27  333.87  329.08  666.45   5,749,400\n",
       " 2       1/5/2012  329.83  330.75  326.89  657.21   6,590,300\n",
       " 3       1/6/2012  328.34  328.77  323.68  648.24   5,405,900\n",
       " 4       1/9/2012  322.04  322.29  309.46  620.76  11,688,800\n",
       " ...          ...     ...     ...     ...     ...         ...\n",
       " 1253  12/23/2016  790.90  792.74  787.28  789.91     623,400\n",
       " 1254  12/27/2016  790.68  797.86  787.66  791.55     789,100\n",
       " 1255  12/28/2016  793.70  794.23  783.20  785.05   1,153,800\n",
       " 1256  12/29/2016  783.33  785.93  778.92  782.79     744,300\n",
       " 1257  12/30/2016  782.75  782.78  770.41  771.82   1,770,000\n",
       " \n",
       " [1258 rows x 6 columns],\n",
       "          Date    Open    High     Low   Close     Volume\n",
       " 0    1/3/2017  778.81  789.63  775.80  786.14  1,657,300\n",
       " 1    1/4/2017  788.36  791.34  783.16  786.90  1,073,000\n",
       " 2    1/5/2017  786.08  794.48  785.02  794.02  1,335,200\n",
       " 3    1/6/2017  795.26  807.90  792.20  806.15  1,640,200\n",
       " 4    1/9/2017  806.40  809.97  802.83  806.65  1,272,400\n",
       " 5   1/10/2017  807.86  809.13  803.51  804.79  1,176,800\n",
       " 6   1/11/2017  805.00  808.15  801.37  807.91  1,065,900\n",
       " 7   1/12/2017  807.14  807.39  799.17  806.36  1,353,100\n",
       " 8   1/13/2017  807.48  811.22  806.69  807.88  1,099,200\n",
       " 9   1/17/2017  807.08  807.14  800.37  804.61  1,362,100\n",
       " 10  1/18/2017  805.81  806.21  800.99  806.07  1,294,400\n",
       " 11  1/19/2017  805.12  809.48  801.80  802.17    919,300\n",
       " 12  1/20/2017  806.91  806.91  801.69  805.02  1,670,000\n",
       " 13  1/23/2017  807.25  820.87  803.74  819.31  1,963,600\n",
       " 14  1/24/2017  822.30  825.90  817.82  823.87  1,474,000\n",
       " 15  1/25/2017  829.62  835.77  825.06  835.67  1,494,500\n",
       " 16  1/26/2017  837.81  838.00  827.01  832.15  2,973,900\n",
       " 17  1/27/2017  834.71  841.95  820.44  823.31  2,965,800\n",
       " 18  1/30/2017  814.66  815.84  799.80  802.32  3,246,600\n",
       " 19  1/31/2017  796.86  801.25  790.52  796.79  2,160,600)"
      ]
     },
     "execution_count": 31,
     "metadata": {
      "tags": []
     },
     "output_type": "execute_result"
    }
   ],
   "source": [
    "df_train,df_test"
   ]
  },
  {
   "cell_type": "code",
   "execution_count": 32,
   "metadata": {
    "colab": {},
    "colab_type": "code",
    "id": "0Z5C1jRG2Jfg"
   },
   "outputs": [],
   "source": [
    "df_total= pd.concat((df_train['Open'],df_test['Open']),axis=0)"
   ]
  },
  {
   "cell_type": "code",
   "execution_count": 33,
   "metadata": {
    "colab": {},
    "colab_type": "code",
    "id": "zPuJGHN-3avy"
   },
   "outputs": [],
   "source": [
    "inputs=df_total[len(df_total)-len(df_test)-60:].values"
   ]
  },
  {
   "cell_type": "code",
   "execution_count": 36,
   "metadata": {
    "colab": {
     "base_uri": "https://localhost:8080/",
     "height": 1000
    },
    "colab_type": "code",
    "id": "n1VJN91B6QYX",
    "outputId": "85e8791b-0e89-4f65-9c1a-59dc6dc162d8"
   },
   "outputs": [
    {
     "data": {
      "text/plain": [
       "array([[779.  ],\n",
       "       [779.66],\n",
       "       [777.71],\n",
       "       [786.66],\n",
       "       [783.76],\n",
       "       [781.22],\n",
       "       [781.65],\n",
       "       [779.8 ],\n",
       "       [787.85],\n",
       "       [798.24],\n",
       "       [803.3 ],\n",
       "       [795.  ],\n",
       "       [804.9 ],\n",
       "       [816.68],\n",
       "       [806.34],\n",
       "       [801.  ],\n",
       "       [808.35],\n",
       "       [795.47],\n",
       "       [782.89],\n",
       "       [778.2 ],\n",
       "       [767.25],\n",
       "       [750.66],\n",
       "       [774.5 ],\n",
       "       [783.4 ],\n",
       "       [779.94],\n",
       "       [791.17],\n",
       "       [756.54],\n",
       "       [755.6 ],\n",
       "       [746.97],\n",
       "       [755.2 ],\n",
       "       [766.92],\n",
       "       [771.37],\n",
       "       [762.61],\n",
       "       [772.63],\n",
       "       [767.73],\n",
       "       [764.26],\n",
       "       [760.  ],\n",
       "       [771.53],\n",
       "       [770.07],\n",
       "       [757.44],\n",
       "       [744.59],\n",
       "       [757.71],\n",
       "       [764.73],\n",
       "       [761.  ],\n",
       "       [772.48],\n",
       "       [780.  ],\n",
       "       [785.04],\n",
       "       [793.9 ],\n",
       "       [797.4 ],\n",
       "       [797.34],\n",
       "       [800.4 ],\n",
       "       [790.22],\n",
       "       [796.76],\n",
       "       [795.84],\n",
       "       [792.36],\n",
       "       [790.9 ],\n",
       "       [790.68],\n",
       "       [793.7 ],\n",
       "       [783.33],\n",
       "       [782.75],\n",
       "       [778.81],\n",
       "       [788.36],\n",
       "       [786.08],\n",
       "       [795.26],\n",
       "       [806.4 ],\n",
       "       [807.86],\n",
       "       [805.  ],\n",
       "       [807.14],\n",
       "       [807.48],\n",
       "       [807.08],\n",
       "       [805.81],\n",
       "       [805.12],\n",
       "       [806.91],\n",
       "       [807.25],\n",
       "       [822.3 ],\n",
       "       [829.62],\n",
       "       [837.81],\n",
       "       [834.71],\n",
       "       [814.66],\n",
       "       [796.86]])"
      ]
     },
     "execution_count": 36,
     "metadata": {
      "tags": []
     },
     "output_type": "execute_result"
    }
   ],
   "source": [
    "inputs=inputs.reshape(-1,1)\n",
    "inputs"
   ]
  },
  {
   "cell_type": "code",
   "execution_count": 37,
   "metadata": {
    "colab": {},
    "colab_type": "code",
    "id": "dl-wvOkN6V6P"
   },
   "outputs": [],
   "source": [
    "inputs= sc.transform(inputs)"
   ]
  },
  {
   "cell_type": "code",
   "execution_count": 38,
   "metadata": {
    "colab": {},
    "colab_type": "code",
    "id": "vYrp-cVy7YiC"
   },
   "outputs": [],
   "source": [
    "# creating 60 timesteps and give output\n",
    "x_test=[]\n",
    "\n",
    "for i in range(60,80):\n",
    "  x_test.append(inputs[i-60:i,0])\n",
    "x_test = np.array(x_test)"
   ]
  },
  {
   "cell_type": "code",
   "execution_count": 39,
   "metadata": {
    "colab": {},
    "colab_type": "code",
    "id": "6Odmx1mi8Lnf"
   },
   "outputs": [],
   "source": [
    "x_test = np.reshape(x_test,(x_test.shape[0],x_test.shape[1],1)) #observation , timestep, indicator"
   ]
  },
  {
   "cell_type": "code",
   "execution_count": 41,
   "metadata": {
    "colab": {
     "base_uri": "https://localhost:8080/",
     "height": 348
    },
    "colab_type": "code",
    "id": "LKBp5exc8mv8",
    "outputId": "188963b4-d8c4-4151-ece0-6e16339c719e"
   },
   "outputs": [
    {
     "data": {
      "text/plain": [
       "array([[788.41766],\n",
       "       [785.97845],\n",
       "       [786.1521 ],\n",
       "       [786.9131 ],\n",
       "       [789.2456 ],\n",
       "       [793.71875],\n",
       "       [797.50854],\n",
       "       [798.5654 ],\n",
       "       [798.5451 ],\n",
       "       [798.3835 ],\n",
       "       [798.35614],\n",
       "       [798.33374],\n",
       "       [798.39685],\n",
       "       [799.1215 ],\n",
       "       [800.15826],\n",
       "       [804.50964],\n",
       "       [810.47345],\n",
       "       [816.57416],\n",
       "       [819.4932 ],\n",
       "       [815.5589 ]], dtype=float32)"
      ]
     },
     "execution_count": 41,
     "metadata": {
      "tags": []
     },
     "output_type": "execute_result"
    }
   ],
   "source": [
    "predicted_stock_price=regressor.predict(x_test)\n",
    "predicted_stock_price= sc.inverse_transform(predicted_stock_price)\n",
    "predicted_stock_price"
   ]
  },
  {
   "cell_type": "code",
   "execution_count": 42,
   "metadata": {
    "colab": {
     "base_uri": "https://localhost:8080/",
     "height": 295
    },
    "colab_type": "code",
    "id": "YcZsaD9S9O0B",
    "outputId": "beab66ea-287f-4a93-91ad-ebb948de6e4c"
   },
   "outputs": [
    {
     "data": {
      "image/png": "[encoded data removed]",
      "text/plain": [
       "<Figure size 432x288 with 1 Axes>"
      ]
     },
     "metadata": {
      "needs_background": "light",
      "tags": []
     },
     "output_type": "display_data"
    }
   ],
   "source": [
    "#visualisation of trends of stock price\n",
    "\n",
    "plt.plot(real_stock_price,color='red',label='REAL GOOGLE STOCK PRICE')\n",
    "plt.plot(predicted_stock_price,color='blue',label='PREDICTED STOCK PRICE')\n",
    "plt.title('GOOGLE STOCK PRICE PREDICTION CHART')\n",
    "plt.xlabel('TIME')\n",
    "plt.ylabel('GOOGLE STOCK PRICE')\n",
    "plt.legend()\n",
    "plt.show()"
   ]
  },
  {
   "cell_type": "code",
   "execution_count": null,
   "metadata": {
    "colab": {},
    "colab_type": "code",
    "id": "KM5wW-bD-wdC"
   },
   "outputs": [],
   "source": []
  }
 ],
 "metadata": {
  "colab": {
   "name": "LSTM_RNN.ipynb",
   "provenance": []
  },
  "kernelspec": {
   "display_name": "Python 3",
   "language": "python",
   "name": "python3"
  },
  "language_info": {
   "codemirror_mode": {
    "name": "ipython",
    "version": 3
   },
   "file_extension": ".py",
   "mimetype": "text/x-python",
   "name": "python",
   "nbconvert_exporter": "python",
   "pygments_lexer": "ipython3",
   "version": "3.7.6"
  }
 },
 "nbformat": 4,
 "nbformat_minor": 1
}
